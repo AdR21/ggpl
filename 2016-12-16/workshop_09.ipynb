{
 "cells": [
  {
   "cell_type": "code",
   "execution_count": 5,
   "metadata": {
    "collapsed": false
   },
   "outputs": [],
   "source": [
    "#workshop_09\n",
    "\n",
    "## Descrizione workshop\n",
    "#Creare un tetto partendo da un poligono non regolare\n",
    "\n",
    "from pyplasm import *"
   ]
  },
  {
   "cell_type": "markdown",
   "metadata": {
    "collapsed": true
   }, 
   "source": [
   "## Descrizione workshop\n",
   "#Creare un tetto partendo da un poligono non regolare\n",
   "\n",
   "###Poligono non regolare\n",
   "#![alt text](https://github.com/AdR21/ggpl/blob/master/2016-12-16/img/poligono.png)\n",
    "\n",
   "###Risultato finale\n",
   "#![alt text](https://github.com/AdR21/ggpl/blob/master/2016-12-16/img/Cattura.JPG)\n",
   "#![alt text](https://github.com/AdR21/ggpl/blob/master/2016-12-16/img/Cattura1.JPG)\n",
   "#![alt text](https://github.com/AdR21/ggpl/blob/master/2016-12-16/img/Cattura2.JPG)\n",
    ]
  },
  {
   "cell_type": "code",
   "execution_count": 6,
   "metadata": {
    "collapsed": true
   },
   "outputs": [],
   "source": [
    "\"\"\"Texture\"\"\"\n",
    "roofTexture = \"texture/roof.png\"\n",
    "floorTexture = \"texture/floor.jpg\"\n",
    "\n",
    "par = 0.2"
   ]
  },
  {
   "cell_type": "code",
   "execution_count": 7,
   "metadata": {
    "collapsed": true
   },
   "outputs": [],
   "source": [
    "\"\"\"x, y coordinates of the polygon no regular plan\"\"\"\n",
    "\n",
    "x = [\n",
    "  1.0,  #0\n",
    "  3.0,  #1\n",
    "  4.0,  #2\n",
    "  5.0,  #3\n",
    "  8.0,  #4\n",
    "  10.0, #5\n",
    "  14.0, #6\n",
    "  16.0, #7\n",
    "  19.0, #8\n",
    "  20.0, #9\n",
    "  21.0, #10\n",
    "  23.0  #11\n",
    "]\n",
    "\n",
    "y = [\n",
    "  1.0,  #0\n",
    "  3.0,  #1\n",
    "  4.0,  #2\n",
    "  5.0,  #3\n",
    "  7.0,  #4\n",
    "  10.0, #5\n",
    "  12.0  #6\n",
    "]\n",
    "\n",
    "z = [\n",
    "  0.0,  #0\n",
    "  2.0   #1\n",
    "]"
   ]
  },
  {
   "cell_type": "code",
   "execution_count": 8,
   "metadata": {
    "collapsed": true
   },
   "outputs": [],
   "source": [
    "vertsStruct = [\n",
    "  [x[2],y[0],z[0]], #1 ---> external\n",
    "  [x[0],y[2],z[0]], #2\n",
    "  [x[0],y[6],z[0]], #3\n",
    "  [x[11],y[6],z[0]], #4\n",
    "  [x[11],y[2],z[0]], #5\n",
    "  [x[9],y[0],z[0]], #6\n",
    "  [x[6],y[0],z[0]], #7\n",
    "  [x[6],y[3],z[0]], #8\n",
    "  [x[5],y[3],z[0]], #9\n",
    "  [x[5],y[0],z[0]], #10\n",
    "  [x[3],y[1],z[1]], #11 ---> internal\n",
    "  [x[1],y[3],z[1]], #12\n",
    "  [x[1],y[5],z[1]], #13\n",
    "  [x[10],y[5],z[1]], #14\n",
    "  [x[10],y[3],z[1]], #15\n",
    "  [x[8],y[1],z[1]], #16\n",
    "  [x[7],y[1],z[1]], #17\n",
    "  [x[7],y[4],z[1]], #18\n",
    "  [x[4],y[4],z[1]], #19\n",
    "  [x[4],y[1],z[1]] #20\n",
    "]\n"
   ]
  },
  {
   "cell_type": "code",
   "execution_count": 9,
   "metadata": {
    "collapsed": true
   },
   "outputs": [],
   "source": [
    "cellsStruct = [\n",
    "  [1,2,12,11],\n",
    "  [2,3,13,12],\n",
    "  [3,4,14,13],\n",
    "  [4,5,15,14],\n",
    "  [5,6,16,15],\n",
    "  [6,7,17,16],\n",
    "  [7,8,18,17],\n",
    "  [8,9,19,18],\n",
    "  [9,10,20,19],\n",
    "  [10,1,11,20]\n",
    " \n",
    "]"
   ]
  },
  {
   "cell_type": "code",
   "execution_count": 10,
   "metadata": {
    "collapsed": true
   },
   "outputs": [],
   "source": [
    "cellsStructBorder = [\n",
    "  [1,2],\n",
    "  [2,3],\n",
    "  [3,4],\n",
    "  [4,5],\n",
    "  [5,6],\n",
    "  [6,7],\n",
    "  [7,8],\n",
    "  [8,9],\n",
    "  [9,10],\n",
    "  [10,1]\n",
    "]"
   ]
  },
  {
   "cell_type": "code",
   "execution_count": 11,
   "metadata": {
    "collapsed": true
   },
   "outputs": [],
   "source": [
    "\"\"\" Creation of the cells with the coordinates of the polygon \"\"\"\n",
    "roof = MKPOL([vertsStruct, cellsStruct,[1]])\n",
    "roof = TEXTURE([roofTexture, TRUE, FALSE, 1, 1, 0, 6, 6])(OFFSET([par, par, par])(SKEL_2(roof)))\n"
   ]
  },
  {
   "cell_type": "code",
   "execution_count": 12,
   "metadata": {
    "collapsed": true
   },
   "outputs": [],
   "source": [
    "\"\"\" Creation of the roof \"\"\"\n",
    "floor = MKPOL([vertsStruct, [[11,12,13,19,20],[19,13,14,18],[14,15,16,17,18]],[1]])\n",
    "floor = TEXTURE([floorTexture, TRUE, FALSE, 1, 1, 0, 6, 6])(OFFSET([par, par, par])(SKEL_2(floor)))\n"
   ]
  },
  {
   "cell_type": "code",
   "execution_count": 13,
   "metadata": {
    "collapsed": false
   },
   "outputs": [
    {
     "data": {
      "text/plain": [
       "<pyplasm.xgepy.Hpc; proxy of <Swig Object of type 'std::shared_ptr< Hpc > *' at 0x0000000006379ED0> >"
      ]
     },
     "execution_count": 13,
     "metadata": {},
     "output_type": "execute_result"
    }
   ],
   "source": [
    "completeRoof = STRUCT([roof,floor])\n",
    "\n",
    "VIEW(completeRoof)"
   ]
  },
  {
   "cell_type": "code",
   "execution_count": null,
   "metadata": {
    "collapsed": true
   },
   "outputs": [],
   "source": []
  }
 ],
 "metadata": {
  "kernelspec": {
   "display_name": "Python 2",
   "language": "python",
   "name": "python2"
  },
  "language_info": {
   "codemirror_mode": {
    "name": "ipython",
    "version": 2
   },
   "file_extension": ".py",
   "mimetype": "text/x-python",
   "name": "python",
   "nbconvert_exporter": "python",
   "pygments_lexer": "ipython2",
   "version": "2.7.12"
  }
 },
 "nbformat": 4,
 "nbformat_minor": 1
}
