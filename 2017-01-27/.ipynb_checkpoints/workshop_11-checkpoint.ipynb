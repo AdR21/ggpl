{
 "cells": [
  {
   "cell_type": "code",
   "execution_count": 1,
   "metadata": {
    "collapsed": false
   },
   "outputs": [
    {
     "name": "stdout",
     "output_type": "stream",
     "text": [
      "Evaluating fenvs.py..\n",
      "...fenvs.py imported in 0.0051215741769 seconds\n"
     ]
    }
   ],
   "source": [
    "\"\"\" workshop 11 \"\"\"\n",
    "from pyplasm import *\n",
    "import numpy as np\n",
    "import sys, os\n",
    "\n",
    "sys.path.append(\"house\")\n",
    "import house\n",
    "\n",
    "sys.setrecursionlimit(1500)"
   ]
  },
  {
   "cell_type": "code",
   "execution_count": 2,
   "metadata": {
    "collapsed": true
   },
   "outputs": [],
   "source": [
    "grassTexture = \"texture/grass.jpg\"\n",
    "asphaltTexture = \"texture/asphalt.jpg\"\n",
    "pavTexture = \"texture/pav4.jpg\"\n",
    "\n",
    "zero = CUBOID([.0,.0,.0])\n",
    "initStruct = STRUCT([zero])\n",
    "level_height = [30.0,30.0,20.0,30.0,30.0,20.0]\n",
    "heights = [60.0,20.0,3.5,60.0,20.0]"
   ]
  },
  {
   "cell_type": "code",
   "execution_count": 3,
   "metadata": {
    "collapsed": true
   },
   "outputs": [],
   "source": [
    "def countFileDirectory(path):\n",
    "  i = 0\n",
    "  for name in os.listdir(path):\n",
    "      if not name.startswith(\".\"):\n",
    "        i = i + 1\n",
    "  return i"
   ]
  },
  {
   "cell_type": "code",
   "execution_count": 4,
   "metadata": {
    "collapsed": true
   },
   "outputs": [],
   "source": [
    "#Reads the svg files\n",
    "def readSvg(l,reading_level,path):\n",
    "  file = open(\"components/\"+path+\"/lines/level-\"+str(l)+\".lines\",\"r\")\n",
    "  data = file.read()\n",
    "  n = countFileDirectory(\"components/\"+path+\"/lines/\")\n",
    "  file.close()\n",
    "  d = data.splitlines()\n",
    "  reading_level = reading_level + [d]\n",
    "  if l!=n-1:\n",
    "    return readSvg(l+1,reading_level,path)\n",
    "  else:\n",
    "    return reading_level\n",
    "\n",
    "levelBase = readSvg(0,[],\"base\")\n",
    "levelStreet = readSvg(0,[],\"strade\")\n",
    "levelHouse = readSvg(0,[],\"case\")\n",
    "levelCurve = readSvg(0,[],\"curve\")\n",
    "\n",
    "def parseLines(l,i, params):\n",
    "  string_line = params[l][i]\n",
    "  split_line = string_line.split(\",\")\n",
    "  array_line = np.array(split_line, dtype=float)\n",
    "  return array_line"
   ]
  },
  {
   "cell_type": "code",
   "execution_count": 5,
   "metadata": {
    "collapsed": true
   },
   "outputs": [],
   "source": [
    "#Creates the base of suburban neighborhood\n",
    "def createGarden(i,s1):\n",
    "  if i < len(levelBase[0]):\n",
    "    params = parseLines(0,i,levelBase)\n",
    "    a_pol = POLYLINE([[params[0],params[1]],[params[2],params[3]]])\n",
    "    a_off = OFFSET([4.0, 5.5, 5.0])(a_pol)\n",
    "    s2 = STRUCT([a_off, s1])\n",
    "    return createGarden(i+1,s2)\n",
    "  else:\n",
    "    s1 = SOLIDIFY(SKEL_2(s1))\n",
    "    s1 = TEXTURE([grassTexture, TRUE, FALSE, 1, 1, 0, 10, 1])(s1)\n",
    "    return s1"
   ]
  },
  {
   "cell_type": "code",
   "execution_count": 6,
   "metadata": {
    "collapsed": true
   },
   "outputs": [],
   "source": [
    "#Creates the roads curves\n",
    "def createCurves(i,s1):\n",
    "  if i < len(levelCurve[0]):\n",
    "    curveExt1 = parseLines(0,i,levelCurve)\n",
    "    curveExt2 = parseLines(0,i+1,levelCurve)\n",
    "    curveInt1 = parseLines(1,i,levelCurve)\n",
    "    curveInt2 = parseLines(1,i+1,levelCurve)\n",
    "    ce = BEZIER(S1)([[curveExt1[2],curveExt1[3]],[curveExt1[0],curveExt1[1]],[curveExt2[0],curveExt2[1]]])\n",
    "    ci = BEZIER(S1)([[curveInt1[2],curveInt1[3]],[curveInt1[0],curveInt1[1]],[curveInt2[0],curveInt2[1]]])\n",
    "    c = MAP(BEZIER(S2)([ce,ci]))(PROD([INTERVALS(1)(10),INTERVALS(1)(10)]))\n",
    "    c = OFFSET([0.0, 0.0, 3.0])(c)\n",
    "    s1 = STRUCT([s1,c])\n",
    "    return createCurves(i+2,s1)\n",
    "  else:\n",
    "    return s1"
   ]
  },
  {
   "cell_type": "code",
   "execution_count": 7,
   "metadata": {
    "collapsed": false
   },
   "outputs": [
    {
     "data": {
      "text/plain": [
       "'\\ndef createRoads(i,s1):\\n  if i < len(levelStreet[0]):\\n    params = parseLines(0,i,levelStreet)\\n    a_pol = POLYLINE([[params[0],params[1]],[params[2],params[3]]])\\n    a_off = OFFSET([0.0, 0.0, 3.0])(a_pol)\\n    s2 = STRUCT([a_off, s1])\\n    return createRoads(i+1,s2)\\n  else:\\n    curve = createCurves(0,initStruct)\\n    s1 = SOLIDIFY(s1)\\n    s1 = STRUCT([s1,curve])\\n    s1 = STRUCT([T(3)(5.0),s1])\\n    s1 = TEXTURE([asphaltTexture, TRUE, FALSE, 1, 1, 0, 16, 16])(s1)\\n    return s1\\n'"
      ]
     },
     "execution_count": 7,
     "metadata": {},
     "output_type": "execute_result"
    }
   ],
   "source": [
    "#Creates the roads \n",
    "def createRoads(l,i,s1):\n",
    "  if l <= len(levelStreet)-1:\n",
    "    if i < len(levelStreet[l]):\n",
    "      params = parseLines(l,i,levelStreet)\n",
    "      a_pol = POLYLINE([[params[0],params[1]],[params[2],params[3]]])\n",
    "      a_off = OFFSET([0.0, 0.0, 0.0])(a_pol)\n",
    "      s2 = STRUCT([a_off, s1])\n",
    "      return createRoads(l,i+1,s2)\n",
    "    else:\n",
    "      s1 = SOLIDIFY(SKEL_2(s1))\n",
    "      s1 = STRUCT([T(3)(5.0),s1])\n",
    "      s1 = TEXTURE([asphaltTexture, TRUE, FALSE, 1, 1, 0, 10, 10])(s1)\n",
    "      return createRoads(l+1,0,s1)\n",
    "  else:\n",
    "    return s1   \n",
    "      #curve = createCurves(0,0,initStruct)\n",
    "      #s1 = SOLIDIFY(s1)\n",
    "      #curve = SOLIDIFY(curve)\n",
    "      #s1 = UNION([s1,curve])\n",
    "      #s1 = STRUCT([s1,curve])\n",
    "      #s1 = STRUCT([T(3)(5.0),s1])\n",
    "      #s1 = TEXTURE([asphaltTexture, TRUE, FALSE, 1, 1, 0, 1, 10])(s1)\n",
    "      #return s1\n",
    "\"\"\"\n",
    "def createRoads(i,s1):\n",
    "  if i < len(levelStreet[0]):\n",
    "    params = parseLines(0,i,levelStreet)\n",
    "    a_pol = POLYLINE([[params[0],params[1]],[params[2],params[3]]])\n",
    "    a_off = OFFSET([0.0, 0.0, 3.0])(a_pol)\n",
    "    s2 = STRUCT([a_off, s1])\n",
    "    return createRoads(i+1,s2)\n",
    "  else:\n",
    "    curve = createCurves(0,initStruct)\n",
    "    s1 = SOLIDIFY(s1)\n",
    "    s1 = STRUCT([s1,curve])\n",
    "    s1 = STRUCT([T(3)(5.0),s1])\n",
    "    s1 = TEXTURE([asphaltTexture, TRUE, FALSE, 1, 1, 0, 16, 16])(s1)\n",
    "    return s1\n",
    "\"\"\""
   ]
  },
  {
   "cell_type": "code",
   "execution_count": 8,
   "metadata": {
    "collapsed": true
   },
   "outputs": [],
   "source": [
    "#Creates the houses bases\n",
    "def createHouseBase(i,s1):\n",
    "  if i < len(levelHouse[0]):\n",
    "    params = parseLines(0,i,levelHouse)\n",
    "    a_pol = POLYLINE([[params[0],params[1]],[params[2],params[3]]])\n",
    "    a_off = OFFSET([0.0, 0.0, 3.0])(a_pol)\n",
    "    s1 = STRUCT([a_off, s1])\n",
    "    return createHouseBase(i+1,s1)\n",
    "  else:\n",
    "    s1 = STRUCT([T(2)(3.0),s1])\n",
    "    s1 = SOLIDIFY(SKEL_2(s1))\n",
    "    s1 = TEXTURE([pavTexture, TRUE, FALSE, 1, 1, 0, 1, 10])(s1)\n",
    "  return s1"
   ]
  },
  {
   "cell_type": "code",
   "execution_count": 9,
   "metadata": {
    "collapsed": true
   },
   "outputs": [],
   "source": [
    "def createHouseBase2(i,s1):\n",
    "  if i < len(levelHouse[0]):\n",
    "    params = parseLines(0,i,levelHouse)\n",
    "    h2 = house.createMoreHouse(0,initStruct,0.0)\n",
    "    h2 = STRUCT([T([1,2,3])([params[0]-180.00,params[1]-220.0,2.0]),h2])\n",
    "    s1 = STRUCT([h2, s1])\n",
    "    return createHouseBase2(i+4,s1)\n",
    "  else:\n",
    "    return s1\n"
   ]
  },
  {
   "cell_type": "code",
   "execution_count": 10,
   "metadata": {
    "collapsed": true
   },
   "outputs": [],
   "source": [
    "#Creates and places the houses \n",
    "def createHouses():\n",
    "  garden_level = createGarden(0,initStruct)\n",
    "  street_level = createRoads(0,0,initStruct)\n",
    "  #street_level = createRoads(0,initStruct)\n",
    "  house_level = createHouseBase(0,initStruct)\n",
    "  house_level2 = createHouseBase2(3,initStruct)\n",
    "  house=STRUCT([initStruct,T(3)(0.0),garden_level])\n",
    "  house=STRUCT([house,T(3)(2.0),street_level])\n",
    "  house=STRUCT([house,T(3)(2.0),house_level])\n",
    "  house=STRUCT([house,T(3)(2.0),house_level2])\n",
    "  return house\n"
   ]
  },
  {
   "cell_type": "code",
   "execution_count": 11,
   "metadata": {
    "collapsed": true
   },
   "outputs": [],
   "source": [
    "#Creates the total suburban neighborhood\n",
    "def createSuburbanNeighborhood(i,s1,d):\n",
    "  if i < 1:\n",
    "    h = createHouses()\n",
    "    h1=STRUCT([T(1)(d),h])\n",
    "    h2=STRUCT([T(1)(d+1520),h])\n",
    "    h3=STRUCT([T(2)(d+1910),h])\n",
    "    h4=STRUCT([T([1,+2])([d+1520,d+1910]),h])\n",
    "    s1= STRUCT([h1,h2,h3,h4,s1])\n",
    "    return createSuburbanNeighborhood(i+1,s1,d+2000.0)\n",
    "  else:\n",
    "    VIEW(s1)\n",
    "\n",
    "createSuburbanNeighborhood(0,initStruct,0.0)"
   ]
  },
  {
   "cell_type": "code",
   "execution_count": null,
   "metadata": {
    "collapsed": true
   },
   "outputs": [],
   "source": []
  }
 ],
 "metadata": {
  "kernelspec": {
   "display_name": "Python 2",
   "language": "python",
   "name": "python2"
  },
  "language_info": {
   "codemirror_mode": {
    "name": "ipython",
    "version": 2
   },
   "file_extension": ".py",
   "mimetype": "text/x-python",
   "name": "python",
   "nbconvert_exporter": "python",
   "pygments_lexer": "ipython2",
   "version": "2.7.12"
  }
 },
 "nbformat": 4,
 "nbformat_minor": 1
}
