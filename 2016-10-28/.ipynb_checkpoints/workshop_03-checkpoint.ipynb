{
 "cells": [
  {
   "cell_type": "code",
   "execution_count": 1,
   "metadata": {
    "collapsed": false
   },
   "outputs": [
    {
     "name": "stdout",
     "output_type": "stream",
     "text": [
      "Evaluating fenvs.py..\n",
      "...fenvs.py imported in 0.00460996802375 seconds\n"
     ]
    }
   ],
   "source": [
    "#workshop_03\n",
    "\n",
    "\"\"\"Creazione di una scala, composta da una pedana, un muro portante e un pavimento\"\"\"\n",
    "\n",
    "from pyplasm import *"
   ]
  },
  {
   "cell_type": "code",
   "execution_count": 2,
   "metadata": {
    "collapsed": true
   },
   "outputs": [],
   "source": [
    "wall=0.5 #spessore del muro di sostegno\n",
    "floor=0.25 #pavimento sottostante la scala\n",
    "landing=1.0 #pedana antistante la scala\n",
    "height=3.0 #altezza del muro\n",
    "length=6.0 #lunghezza della scalinata (profondita' del muro)\n",
    "steps=10.0 #numero di gradini\n",
    "sx= 1.5 #larghezza gradino (parametro formale X)\n",
    "sy=length/steps #lunghezza gradino (parametro formale Y)\n",
    "dz=height/steps #altezza gradino (parametro formale Z)"
   ]
  },
  {
   "cell_type": "code",
   "execution_count": 3,
   "metadata": {
    "collapsed": true
   },
   "outputs": [],
   "source": [
    "\"\"\"inizializzazione struttura vuota in cui verra' costruita la scala\"\"\"\n",
    "elem=CUBOID([0,0,0])\n",
    "struct=STRUCT([elem])\n"
   ]
  },
  {
   "cell_type": "code",
   "execution_count": 4,
   "metadata": {
    "collapsed": true
   },
   "outputs": [],
   "source": [
    "\"\"\"\n",
    "createStaircase: funzione che ricorsivamente costruisce un gradino alla volta\n",
    "Se si arriva a una profondita' compresa tra i 2/5 e i 4/5 della profondita' totale, si costruisce un pianerottolo lungo 3 volte un gradino normale\n",
    "nella costruzione del muro di sostegno.\n",
    "Della pedana sottostante si tiene conto della lunghezza dei gradini, della loro altezza e della lunghezza del pianerottolo\n",
    "\"\"\"\n",
    "def createStaircase(x,y,z,tempWidth,tempHeight,tempStruct):\n",
    "\tif(2.0*length/5.0<tempWidth<4.0*length/5.0):\n",
    "\t\tstep=COLOR(WHITE)(CUBOID([x, y*3, z]))\n",
    "\t\ttraslation=STRUCT([T([1,2,3])([wall/3,tempWidth,tempHeight]),step])\n",
    "\t\ttempWidth=tempWidth + y*3.0\n",
    "\t\ttempHeight=tempHeight + z\t\n",
    "\telse:\n",
    "\t\tstep=COLOR(WHITE)(CUBOID([x, y, z]))\n",
    "\t\ttraslation=STRUCT([T([1,2,3])([wall/3,tempWidth,tempHeight]),step])\n",
    "\t\ttempWidth=tempWidth + y\n",
    "\t\ttempHeight=tempHeight + z\n",
    "\tstair=STRUCT([traslation,tempStruct])\n",
    "\tif tempWidth < length+y:\n",
    "\t\tcreateStaircase(x, y, z, tempWidth, tempHeight, stair)\n",
    "\telse:\n",
    "\t\tw=COLOR(BROWN)(CUBOID([wall,length+landing+y*2,height+floor]))\n",
    "\t\tf=COLOR(BROWN)(CUBOID([sx+wall/2,length+landing+y*2,floor]))\n",
    "\t\tstair=STRUCT([T([2,3])([landing,floor]),stair])\t\t\n",
    "\t\tfinalStaircase=STRUCT([w,f,stair])\n",
    "\n",
    "\t\tVIEW(finalStaircase)\n"
   ]
  },
  {
   "cell_type": "code",
   "execution_count": 5,
   "metadata": {
    "collapsed": true
   },
   "outputs": [],
   "source": [
    "\"\"\"\n",
    "ggpl_staircase_with_central_landing: funzione che prende in input i 3 parametri formali relativi alle 3 dimensioni\n",
    "\"\"\"\n",
    "def ggpl_staircase_with_central_landing(x1,y1,z1):\n",
    "\tcreateStaircase(x1,y1,z1,0,0,struct)\n",
    "\n",
    "ggpl_staircase_with_central_landing(sx,sy,dz)"
   ]
  }
 ],
 "metadata": {
  "kernelspec": {
   "display_name": "Python 2",
   "language": "python",
   "name": "python2"
  },
  "language_info": {
   "codemirror_mode": {
    "name": "ipython",
    "version": 2
   },
   "file_extension": ".py",
   "mimetype": "text/x-python",
   "name": "python",
   "nbconvert_exporter": "python",
   "pygments_lexer": "ipython2",
   "version": "2.7.12"
  }
 },
 "nbformat": 4,
 "nbformat_minor": 1
}
