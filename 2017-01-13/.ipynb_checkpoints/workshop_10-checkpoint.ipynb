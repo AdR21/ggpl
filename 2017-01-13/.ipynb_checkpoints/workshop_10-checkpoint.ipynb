{
 "cells": [
  {
   "cell_type": "code",
   "execution_count": 51,
   "metadata": {
    "collapsed": true
   },
   "outputs": [],
   "source": [
    "\"\"\" workshop 10 \"\"\"\n",
    "from pyplasm import *\n",
    "import numpy as np\n",
    "import sys, os\n",
    "\n",
    "sys.setrecursionlimit(1500)"
   ]
  },
  {
   "cell_type": "code",
   "execution_count": 52,
   "metadata": {
    "collapsed": true
   },
   "outputs": [],
   "source": [
    "pavTexture = \"texture/pav4.jpg\"\n",
    "wallTexture = \"texture/wall1.jpg\"\n",
    "wallStone = \"texture/wall6.jpg\"\n",
    "doorTexture = \"texture/wood.jpg\"\n",
    "metalTexture = \"texture/metal.jpg\"\n",
    "glassTexture = \"texture/glass.jpg\"\n",
    "roofTexture = \"texture/roof.png\""
   ]
  },
  {
   "cell_type": "code",
   "execution_count": 53,
   "metadata": {
    "collapsed": true
   },
   "outputs": [],
   "source": [
    "zero = CUBOID([.0,.0,.0])\n",
    "initStruct = STRUCT([zero])\n",
    "levelHeight = [30.0,30.0,20.0,30.0,30.0,20.0]\n",
    "heights = [60.0,20.0,3.5,60.0,20.0]\n",
    "\n",
    "def countFileDirectory(path):\n",
    "  i = 0\n",
    "  for name in os.listdir(path):\n",
    "      if not name.startswith('.'):\n",
    "        i = i + 1\n",
    "  return i"
   ]
  },
  {
   "cell_type": "code",
   "execution_count": 54,
   "metadata": {
    "collapsed": true
   },
   "outputs": [],
   "source": [
    "def readSvg(l,readingLevel,path):\n",
    "  file = open(\"components/\"+path+\"/lines/level-\"+str(l)+\".lines\",\"r\")\n",
    "  data = file.read()\n",
    "  n = countFileDirectory(\"components/\"+path+\"/lines/\")\n",
    "  file.close()\n",
    "  d = data.splitlines()\n",
    "  readingLevel = readingLevel + [d]\n",
    "  if l!=n-1:\n",
    "    return readSvg(l+1,readingLevel,path)\n",
    "  else:\n",
    "    return readingLevel"
   ]
  },
  {
   "cell_type": "code",
   "execution_count": 55,
   "metadata": {
    "collapsed": true
   },
   "outputs": [],
   "source": [
    "levelBase = readSvg(0,[],\"base\")\n",
    "levelExternal = readSvg(0,[],\"esterno\")\n",
    "levelInternal = readSvg(0,[],\"interno\")\n",
    "levelDoors = readSvg(0,[],\"porte\")\n",
    "levelWindows = readSvg(0,[],\"finestre\")\n",
    "levelStair = readSvg(0,[],\"scale\")"
   ]
  },
  {
   "cell_type": "code",
   "execution_count": 56,
   "metadata": {
    "collapsed": true
   },
   "outputs": [],
   "source": [
    "def parseLines(l,i, params):\n",
    "  stringLine = params[l][i]\n",
    "  splitLine = stringLine.split(\",\")\n",
    "  arrayLine = np.array(splitLine, dtype=float)\n",
    "  return arrayLine"
   ]
  },
  {
   "cell_type": "code",
   "execution_count": 57,
   "metadata": {
    "collapsed": true
   },
   "outputs": [],
   "source": [
    "#Creation first floor\n",
    "def buildFloor1(i,s1):\n",
    "  if i < len(levelBase[0]):\n",
    "    params = parseLines(0,i,levelBase)\n",
    "    a_pol = POLYLINE([[params[0],params[1]],[params[2],params[3]]])\n",
    "    a_off = OFFSET([4.0, 5.5, 2.0])(a_pol)\n",
    "    s2 = STRUCT([a_off, s1])\n",
    "    return buildFloor1(i+1,s2)\n",
    "  else:\n",
    "    s1 = SOLIDIFY(SKEL_2(s1))\n",
    "    s1 = TEXTURE([pavTexture, TRUE, FALSE, 1, 1, 0, 1, 1])(s1)\n",
    "    return s1\n"
   ]
  },
  {
   "cell_type": "code",
   "execution_count": 58,
   "metadata": {
    "collapsed": true
   },
   "outputs": [],
   "source": [
    "#Creation external wall\n",
    "def buildExternal(l,i,h,s1):\n",
    "  if l <= len(levelExternal)-1:\n",
    "    if i < len(levelExternal[l]):\n",
    "      params = parseLines(l,i,levelExternal)\n",
    "      a_pol = MKPOL([[[params[0],params[1],0.0],[params[0],params[3],0.0],[params[2],params[1],0.0],[params[2],params[3],0.0]],[[1,2,3,4]],[1]])\n",
    "      a_off = OFFSET([3.0, 3.0, levelHeight[l]])(a_pol)\n",
    "      if l==0:\n",
    "        a_texture = TEXTURE([wallStone, TRUE, FALSE, 1, 1, 0, 2, 1])(a_off)\n",
    "      else:\n",
    "        if l==3:\n",
    "          a_texture = TEXTURE([wallStone, TRUE, FALSE, 1, 1, 0, 6, 1])(a_off)\n",
    "        else:\n",
    "          a_texture = TEXTURE([wallTexture, TRUE, FALSE, 1, 1, 0, 6, 1])(a_off)\n",
    "      a_tras = STRUCT([T(3)(h), a_texture])\n",
    "      s2 = STRUCT([a_tras, s1])\n",
    "      return buildExternal(l,i+1,h,s2)\n",
    "    else:\n",
    "      h = h + levelHeight[l]\n",
    "      return buildExternal(l+1,0,h,s1)\n",
    "  else:\n",
    "    return s1"
   ]
  },
  {
   "cell_type": "code",
   "execution_count": 59,
   "metadata": {
    "collapsed": true
   },
   "outputs": [],
   "source": [
    "#Creation internal wall\n",
    "def buildInternal(l,i,h,s1):\n",
    "  if l <= len(levelInternal)-1:\n",
    "    if i < len(levelInternal[l]):\n",
    "      params = parseLines(l,i,levelInternal)\n",
    "      a_pol = MKPOL([[[params[0],params[1],0.0],[params[0],params[3],0.0],[params[2],params[1],0.0],[params[2],params[3],0.0]],[[1,2,3,4]],[1]])\n",
    "      a_off = OFFSET([1.0, 1.0, levelHeight[l]])(a_pol)\n",
    "      a_texture = TEXTURE([wallTexture, TRUE, FALSE, 1, 1, 0, 2, 1])(a_off)\n",
    "      a_tras = STRUCT([T(3)(h), a_texture])\n",
    "      s2 = STRUCT([a_tras, s1])\n",
    "      return buildInternal(l,i+1,h,s2)\n",
    "    else:\n",
    "      h = h + levelHeight[l]\n",
    "      return buildInternal(l+1,0,h,s1)\n",
    "  else:\n",
    "    return s1"
   ]
  },
  {
   "cell_type": "code",
   "execution_count": 60,
   "metadata": {
    "collapsed": true
   },
   "outputs": [],
   "source": [
    "#Creation a door\n",
    "def buildOneDoor(elem, j, h, door):\n",
    "  if j < 13:\n",
    "    build = MKPOL([[[elem[0],elem[1],0.0],[elem[2],elem[3],0.0]],[[1,2]],[1]])\n",
    "    if not j%2:\n",
    "      buildOffset = OFFSET([3.5, 3.5, 8.5])(build)\n",
    "      buildTexture = TEXTURE([doorTexture, TRUE, FALSE, 1, 1, 0, 6, 1])(buildOffset)\n",
    "      buildTras = STRUCT([T([3])([h]), buildTexture])\n",
    "      h = h + 8.5\n",
    "    else:\n",
    "      buildOffset = OFFSET([3.5, 3.5, 0.5])(build)\n",
    "      buildTexture = TEXTURE([doorTexture, TRUE, FALSE, 1, 1, 0, 1, 1])(buildOffset)\n",
    "      buildTras = STRUCT([T([3])([h]), buildTexture])\n",
    "      h = h + 0.5\n",
    "    door = STRUCT([buildTras,door])\n",
    "    return buildOneDoor(elem, j+1, h, door)\n",
    "  else:\n",
    "    return door"
   ]
  },
  {
   "cell_type": "code",
   "execution_count": 61,
   "metadata": {
    "collapsed": true
   },
   "outputs": [],
   "source": [
    "#Creation handle's doors\n",
    "def createHandle(elem,s1):\n",
    "  handle = MKPOL([[[elem[0],elem[1],0.0],[elem[2],elem[3],0.0]],[[1,2]],[1]])\n",
    "  handle0 = OFFSET([8.0, 1.0, 1.0])(handle)\n",
    "  if (elem[0]-elem[2]<1.0) & (elem[0]-elem[2]>-1.0):\n",
    "    handle_0 = STRUCT([T([1,2,3])([-2.0,1.0,31.0]), handle0])\n",
    "    handle_1 = STRUCT([T([1,2,3])([-2.0,3.0,31.0]), handle0])\n",
    "    handle1 = OFFSET([1.0, 1.5, 1.0])(handle)\n",
    "    handle_2 = STRUCT([T([1,2,3])([5.0,1.0,31.0]), handle1])\n",
    "    handle_3 = STRUCT([T([1,2,3])([5.0,6.0,31.0]), handle1])\n",
    "    handle_01 = DIFF([handle_0,handle_1])\n",
    "    handle_23 = DIFF([handle_2,handle_3])\n",
    "    handle_23_2 = STRUCT([T([1])([-8.0]), handle_23])\n",
    "  else:\n",
    "    handle = MKPOL([[[elem[0],elem[1],0.0],[elem[2],elem[3],0.0]],[[1,2]],[1]])\n",
    "    handle0 = OFFSET([1.0, 8.0, 1.0])(handle)\n",
    "    handle_0 = STRUCT([T([1,2,3])([1.0,-2.0,31.0]), handle0])\n",
    "    handle_1 = STRUCT([T([1,2,3])([3.0,-2.0,31.0]), handle0])\n",
    "    handle1 = OFFSET([1.0, 1.5, 1.0])(handle)\n",
    "    handle_2 = STRUCT([T([1,2,3])([1.0,5.0,31.0]), handle1])\n",
    "    handle_3 = STRUCT([T([1,2,3])([6.0,5.0,31.0]), handle1])\n",
    "    handle_01 = DIFF([handle_0,handle_1])\n",
    "    handle_23 = DIFF([handle_2,handle_3])\n",
    "    handle_23_2 = STRUCT([T([2])([-8.0]), handle_23])\n",
    "  handle_all = STRUCT([handle_01,handle_23,handle_23_2])\n",
    "  handle_all = TEXTURE([metalTexture, TRUE, FALSE, 1, 1, 0, 1, 1])(handle_all)\n",
    "  s1 = STRUCT([s1,handle_all])\n",
    "  return s1"
   ]
  },
  {
   "cell_type": "code",
   "execution_count": 62,
   "metadata": {
    "collapsed": true
   },
   "outputs": [],
   "source": [
    "#Creation all doors\n",
    "def buildAllDoors(l,i,h,s1):\n",
    "  if l <= len(levelDoors)-1:\n",
    "    if i < len(levelDoors[l]):\n",
    "      params = parseLines(l,i,levelDoors)\n",
    "      d = buildOneDoor(params, 0, h, initStruct)\n",
    "      hand = createHandle(params,initStruct)\n",
    "      hand = STRUCT([T([3])([h]), hand])\n",
    "      finalStruct = STRUCT([d, s1, hand])\n",
    "      return buildAllDoors(l,i+1,h,finalStruct)\n",
    "    else:\n",
    "      h = h + 80.0 \n",
    "      return buildAllDoors(l+1,0,h,s1)\n",
    "  else:\n",
    "    return s1"
   ]
  },
  {
   "cell_type": "code",
   "execution_count": 63,
   "metadata": {
    "collapsed": true
   },
   "outputs": [],
   "source": [
    "#Creation a window\n",
    "def buildOneWindow(params,h):\n",
    "  q1 = MKPOL([[[params[0],params[1],0.0],[params[2],params[3],0.0]],[[1,2]],[1]])\n",
    "  q1 = OFFSET([3.5, 3.5, 30.0])(q1)\n",
    "  #q1 = STRUCT([T(3)(5.0), q1])\n",
    "  q1 = TEXTURE([glassTexture, TRUE, FALSE, 1, 1, 0, 1, 1])(q1)\n",
    "  q1 = MATERIAL([0,1.36,2.55,0.5,  0,1,0,0.5, 0,0,1,0, 0,0,0,0.5, 100])(q1)\n",
    "  if (params[0]-params[2]<1.0) & (params[0]-params[2]>-1.0):\n",
    "    if params[1]<params[3]:\n",
    "      q2 = MKPOL([[[params[0],params[1]-2.0,0.0],[params[2],params[3]+2.0,0.0]],[[1,2]],[1]])\n",
    "      q2 = OFFSET([3.5, 3.5, 40.0])(q2)\n",
    "    else:\n",
    "      q2 = MKPOL([[[params[0],params[1]+2.0,0.0],[params[2],params[3]-2.0,0.0]],[[1,2]],[1]])\n",
    "      q2 = OFFSET([3.5, 3.5, 40.0])(q2)\n",
    "  if (params[1]-params[3]<1.0) & (params[1]-params[3]>-1.0):\n",
    "    if params[0]<params[2]:\n",
    "      q2 = MKPOL([[[params[0]-2.0,params[1],0.0],[params[2]+2.0,params[3],0.0]],[[1,2]],[1]])\n",
    "      q2 = OFFSET([3.5, 3.5, 40.0])(q2)\n",
    "    else:\n",
    "      q2 = MKPOL([[[params[0]+2.0,params[1],0.0],[params[2]-2.0,params[3],0.0]],[[1,2]],[1]])\n",
    "      q2 = OFFSET([3.5, 3.5, 40.0])(q2)\n",
    "  q2 = STRUCT([T(3)(-3.5), q2])\n",
    "  q2 = TEXTURE([pavTexture, TRUE, FALSE, 1, 1, 0, 1, 1])(q2)\n",
    "  q = DIFFERENCE([q2,q1])\n",
    "  q = TEXTURE([pavTexture, TRUE, FALSE, 1, 1, 0, 1, 1])(q)\n",
    "  allWindow = STRUCT([q,q1])\n",
    "  allWindow = STRUCT([T(3)(h), allWindow])\n",
    "  return allWindow\n"
   ]
  },
  {
   "cell_type": "code",
   "execution_count": 64,
   "metadata": {
    "collapsed": true
   },
   "outputs": [],
   "source": [
    "#Creation all windows\n",
    "def buildAllWindows(l,i,h,s1):\n",
    "  if l <= len(levelWindows)-1:\n",
    "    if i < len(levelWindows[l]):\n",
    "      params = parseLines(l,i,levelWindows)\n",
    "      w = buildOneWindow(params,h)\n",
    "      finalStruct = STRUCT([w, s1])\n",
    "      return buildAllWindows(l,i+1,h,finalStruct)\n",
    "    else:\n",
    "      h = h + 80.0\n",
    "      return buildAllWindows(l+1,0,h,s1)\n",
    "  else:\n",
    "    return s1"
   ]
  },
  {
   "cell_type": "code",
   "execution_count": 65,
   "metadata": {
    "collapsed": true
   },
   "outputs": [],
   "source": [
    "#Creation the roof\n",
    "def buildRoof(i,s1):\n",
    "  params = parseLines(0,i,levelBase)\n",
    "  if i==0:\n",
    "    truss = MKPOL([[[params[0],params[1],0.0],[params[2],params[3],0.0],[(params[2]+params[0])/2,(params[3]+params[1])/2,30.0]],[[1,2,3]],[1]])\n",
    "    roof_frame = MKPOL([[[params[0],params[1]],[(params[2]+params[0])/2-30.0,(params[3]+params[1])/2]],[[1,2]],[1]])\n",
    "    truss = OFFSET([-3.0, 0.0, 0.0])(truss)\n",
    "  else:\n",
    "    truss = MKPOL([[[params[0],params[1],0.0],[params[2],params[3],0.0],[(params[2]+params[0])/2,(params[3]+params[1])/2,30.0]],[[1,2,3]],[1]])\n",
    "    roof_frame = MKPOL([[[params[0],params[1]],[(params[2]+params[0])/2-30.0,(params[3]+params[1])/2]],[[1,2]],[1]])\n",
    "    truss = OFFSET([3.0, 0.0, 0.0])(truss)\n",
    "  truss = TEXTURE([wallTexture, TRUE, FALSE, 1, 1, 0, 2, 1])(truss)\n",
    "  roof_height = levelBase[0][3]\n",
    "  roof_height_split = roof_height.split(\",\")\n",
    "  roof_height_number = np.array(roof_height_split, dtype=float)\n",
    "  roof_height = roof_height_number[2] - roof_height_number[0]\n",
    "  roof = STRUCT([T([1,3])([roof_height_number[0]-8,params[0]-1]),(ROTATE([1,3])(-PI/2)(PROD([roof_frame,Q(roof_height+10)])))])\n",
    "  roof = OFFSET([3.0, 3.0, 3.0])(roof)\n",
    "  roof = TEXTURE([roofTexture, TRUE, FALSE, 1, 1, 0, 2, 1])(roof)\n",
    "  s2 = STRUCT([truss, s1])\n",
    "  s2 = STRUCT([roof, s2])\n",
    "  return s2\n"
   ]
  },
  {
   "cell_type": "code",
   "execution_count": 66,
   "metadata": {
    "collapsed": true
   },
   "outputs": [],
   "source": [
    "#Creation second floor\n",
    "def buildFloor2(i,base,s1):\n",
    "  if i < len(levelStair[0]):\n",
    "    params = parseLines(0,i,levelStair)\n",
    "    a_pol = POLYLINE([[params[0],params[1]],[params[2],params[3]]])\n",
    "    a_off = OFFSET([4.0, 5.5, 2.0])(a_pol)\n",
    "    s2 = STRUCT([a_off, s1])\n",
    "    return buildFloor2(i+1,base,s2)\n",
    "  else:\n",
    "    s1 = SOLIDIFY(SKEL_2(s1))\n",
    "    s1 = DIFF([base,s1])\n",
    "    s1 = TEXTURE([pavTexture, TRUE, FALSE, 1, 1, 0, 1, 1])(s1)\n",
    "  return s1"
   ]
  },
  {
   "cell_type": "code",
   "execution_count": 67,
   "metadata": {
    "collapsed": true
   },
   "outputs": [],
   "source": [
    "#Creation stair\n",
    "def buildStair(tempLength,tempHeight,s1):\n",
    "  params = parseLines(0,0,levelStair)\n",
    "  params2 = parseLines(0,2,levelStair)\n",
    "  height = 80.0\n",
    "  height_step = 5.44\n",
    "  steps=height/height_step\n",
    "  steps=height/steps\n",
    "  length_step = 13.0\n",
    "  #length = steps*length_step\n",
    "  length = (params2[3]-params2[0])\n",
    "  build = POLYLINE([[params[0],params[1]],[params[2],params[3]]])\n",
    "  buildOffset = OFFSET([5.0, length_step, height_step])(build)\n",
    "  traslation=STRUCT([T([1,2,3])([0.5,tempLength+length_step,tempHeight]),buildOffset])\n",
    "  tempLength=tempLength + length_step/2\n",
    "  tempHeight=tempHeight + height_step\n",
    "  s1=STRUCT([traslation,s1])\n",
    "  if tempHeight < height:\n",
    "    return buildStair(tempLength, tempHeight, s1)\n",
    "  else:\n",
    "    s1 = TEXTURE([pavTexture, TRUE, FALSE, 1, 1, 0, 1, 1])(s1)\n",
    "    s1=STRUCT([traslation,s1])\n",
    "  return s1"
   ]
  },
  {
   "cell_type": "code",
   "execution_count": null,
   "metadata": {
    "collapsed": true
   },
   "outputs": [],
   "source": [
    "#Creation the house\n",
    "def buildHouse():\n",
    "  floor1Level = buildFloor1(0,initStruct)\n",
    "  floor2Level = buildFloor2(0,floor1Level,initStruct)\n",
    "  externalLevel = buildExternal(0,0,0.0,initStruct)\n",
    "  internalLevel = buildInternal(0,0,0.0,initStruct)\n",
    "  doorsLevel = buildAllDoors(0,0,0.0,initStruct)\n",
    "  windowsLevel = buildAllWindows(0,0,30.0,initStruct)\n",
    "  roofLevel1 = buildRoof(0,initStruct)\n",
    "  roofLevel2 = buildRoof(2,initStruct)\n",
    "  stairsLevel = buildStair(0.0,0.0,initStruct)\n",
    "  house=STRUCT([floor1Level,T(3)(3.0),externalLevel])\n",
    "  house=STRUCT([house,T(3)(3.5),stairsLevel])\n",
    "  house=STRUCT([house,T(3)(3.5),internalLevel])\n",
    "  house=STRUCT([house,T(3)(83.0),floor2Level])\n",
    "  house=STRUCT([house,T(3)(163.0),floor1Level])\n",
    "  house=STRUCT([house,T(3)(3.0),doorsLevel])\n",
    "  house=STRUCT([house,T(3)(3.0),windowsLevel])\n",
    "  house=STRUCT([house,T(3)(163.0),roofLevel1])\n",
    "  house=STRUCT([house,T(3)(163.0),roofLevel2])\n",
    "  VIEW(house)\n",
    "\n",
    "buildHouse()"
   ]
  },
  {
   "cell_type": "code",
   "execution_count": null,
   "metadata": {
    "collapsed": true
   },
   "outputs": [],
   "source": []
  }
 ],
 "metadata": {
  "kernelspec": {
   "display_name": "Python 2",
   "language": "python",
   "name": "python2"
  },
  "language_info": {
   "codemirror_mode": {
    "name": "ipython",
    "version": 2
   },
   "file_extension": ".py",
   "mimetype": "text/x-python",
   "name": "python",
   "nbconvert_exporter": "python",
   "pygments_lexer": "ipython2",
   "version": "2.7.12"
  }
 },
 "nbformat": 4,
 "nbformat_minor": 1
}
