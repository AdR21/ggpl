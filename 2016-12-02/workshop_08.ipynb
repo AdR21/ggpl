{
 "cells": [
  {
   "cell_type": "code",
   "execution_count": 1,
   "metadata": {
    "collapsed": false
   },
   "outputs": [
    {
     "name": "stdout",
     "output_type": "stream",
     "text": [
      "Evaluating fenvs.py..\n",
      "...fenvs.py imported in 0.00515279012346 seconds\n"
     ]
    }
   ],
   "source": [
    "#workshop_08\n",
    "\n",
    "\"\"\"Reproduction of house plan\"\"\"\n",
    "\n",
    "from pyplasm import *\n",
    "import numpy as np"
   ]
  },
  {
   "cell_type": "code",
   "execution_count": 2,
   "metadata": {
    "collapsed": true
   },
   "outputs": [],
   "source": [
    "\"\"\"Texture\"\"\"\n",
    "bricksTexture = \"texture/bricks.jpg\"\n",
    "wallTexture = \"texture/wall.jpg\"\n",
    "\n",
    "\"\"\"Structure initial\"\"\"\n",
    "init = CUBOID([.0,.0,.0])\n",
    "initStruct = STRUCT([init])"
   ]
  },
  {
   "cell_type": "code",
   "execution_count": 3,
   "metadata": {
    "collapsed": true
   },
   "outputs": [],
   "source": [
    "\"\"\"Function that reads .lines file to extract the points\"\"\"\n",
    "def readFile(l):\n",
    "\tfile = open(\"lines/level_\"+str(l)+\".lines\",\"r\")\n",
    "\tdata = file.read()\n",
    "\tfile.close()\n",
    "\treturn data.splitlines()\n"
   ]
  },
  {
   "cell_type": "code",
   "execution_count": 4,
   "metadata": {
    "collapsed": true
   },
   "outputs": [],
   "source": [
    "\"\"\"Contour map\"\"\"\n",
    "lev1 = readFile(1)\n",
    "\"\"\"Map with doors\"\"\"\n",
    "lev2 = readFile(2)\n",
    "\"\"\"Map with the windows and doors\"\"\"\n",
    "lev3 = readFile(3)\n",
    "\"\"\"Map with door jambs\"\"\"\n",
    "lev4 = readFile(4)\n",
    "\n",
    "\"\"\"Array with levels\"\"\"\n",
    "level = [lev1,lev2,lev3,lev4,lev1]\n",
    "\n",
    "\"\"\"Height of each floor \"\"\"\n",
    "levelHeight = [0.0,30.0,30.0,20.0,0.0]"
   ]
  },
  {
   "cell_type": "code",
   "execution_count": 5,
   "metadata": {
    "collapsed": true
   },
   "outputs": [],
   "source": [
    "\n",
    "\"\"\"Function that reads the points and builds all levels of the plant \"\"\"\n",
    "def housePlan(l,i,h,s1):\n",
    "\t#Cycle levels\n",
    "\tif l <= len(level)-1:\n",
    "\t\t#Cycle the points of each of a floor wall\n",
    "\t\tif i < len(level[l])-1:\n",
    "\t\t\t#Take the point of a wall\n",
    "\t\t\twall = level[l][i]\n",
    "\t\t\t#It inserts them into an array By splitting the comma\n",
    "\t\t\twallSplit = wall.split(\",\")\n",
    "\t\t\t#Transform each element from string to float\n",
    "\t\t\twallNumber = np.array(wallSplit, dtype=float)\n",
    "\t\t\t#creates the wall (1D) joining the points extracted from the lines in his position\n",
    "\t\t\t#wallNumber[0] --> x1\n",
    "\t\t\t#wallNumber[1] --> y1\n",
    "\t\t\t#wallNumber[2] --> x2\n",
    "\t\t\t#wallNumber[3] --> y2\n",
    "\t\t\t#[wallNumber[0],wallNumber[1]] --> x1,y1\n",
    "\t\t\t#[wallNumber[0],wallNumber[3]] --> x1,y2\n",
    "\t\t\t#[wallNumber[2],wallNumber[1]] --> x2,y1\n",
    "\t\t\t#[wallNumber[2],wallNumber[3]] --> x2,y1\n",
    "\t\t\twallPol = MKPOL([[[wallNumber[0],wallNumber[1],0.0],[wallNumber[0],wallNumber[3],0.0],[wallNumber[2],wallNumber[1],0.0],[wallNumber[2],wallNumber[3],0.0]],[[1,2,3,4]],[1]])\n",
    "\t\t\t#It gives the wall the height referred to the plan that I am creating\n",
    "\t\t\twallOff = OFFSET([1.5, 1.5, levelHeight[l]])(wallPol)\n",
    "\t\t\t#Texture to the wall\n",
    "\t\t\twallText = TEXTURE([wallTexture, TRUE, FALSE, 1, 1, 0, 6, 1])(wallOff)\n",
    "\t\t\t#Translates the plan to make it place over the previous plan by h\n",
    "\t\t\twallTranslate = STRUCT([T(3)(h), wallText])\n",
    "\t\t\ts2 = STRUCT([wallTranslate, s1])\n",
    "\t\t\t#Re-executes the function to create a new wall\n",
    "\t\t\treturn housePlan(l,i+1,h,s2)\n",
    "\t\telse:\n",
    "\t\t\t#Calculates the overall height to position the new plan\n",
    "\t\t\th = h + levelHeight[l]\n",
    "\t\t\t#Re-executes the function to create a new plan\n",
    "\t\t\treturn housePlan(l+1,0,h,s1)\n",
    "\telse:\n",
    "\t\tVIEW(s1)\n",
    "\n",
    "housePlan(0,0,0.0,initStruct)"
   ]
  },
  {
   "cell_type": "code",
   "execution_count": null,
   "metadata": {
    "collapsed": true
   },
   "outputs": [],
   "source": []
  }
 ],
 "metadata": {
  "kernelspec": {
   "display_name": "Python 2",
   "language": "python",
   "name": "python2"
  },
  "language_info": {
   "codemirror_mode": {
    "name": "ipython",
    "version": 2
   },
   "file_extension": ".py",
   "mimetype": "text/x-python",
   "name": "python",
   "nbconvert_exporter": "python",
   "pygments_lexer": "ipython2",
   "version": "2.7.12"
  }
 },
 "nbformat": 4,
 "nbformat_minor": 1
}
