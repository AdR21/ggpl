{
 "cells": [
  {
   "cell_type": "code",
   "execution_count": 1,
   "metadata": {
    "collapsed": false
   },
   "outputs": [
    {
     "name": "stdout",
     "output_type": "stream",
     "text": [
      "Evaluating fenvs.py..\n",
      "...fenvs.py imported in 0.00409085773297 seconds\n"
     ]
    }
   ],
   "source": [
    "#workshop_05\n",
    "\n",
    "\"\"\"Reproduction of a school forniture \"\"\"\n",
    "\n",
    "from pyplasm import *"
   ]
  },
  {
   "cell_type": "code",
   "execution_count": 2,
   "metadata": {
    "collapsed": true
   },
   "outputs": [],
   "source": [
    "\"\"\"Function to create colors from RGB\"\"\"\n",
    "def intRGBColor(values):\n",
    "    return Color4f([values[0]/255.0,values[1]/255.0,values[2]/255.0,1.0])"
   ]
  },
  {
   "cell_type": "code",
   "execution_count": 3,
   "metadata": {
    "collapsed": false
   },
   "outputs": [
    {
     "data": {
      "text/plain": [
       "<pyplasm.xgepy.Hpc; proxy of <Swig Object of type 'std::shared_ptr< Hpc > *' at 0x000000000AD7C720> >"
      ]
     },
     "execution_count": 3,
     "metadata": {},
     "output_type": "execute_result"
    }
   ],
   "source": [
    "\"\"\"Function to create a chair\"\"\"\n",
    "def ggpl_chair(dx, dy, dz):\n",
    "    depthLeg = 0.05 * dx\n",
    "    distanceLeg = 0.03 * dx\n",
    "    depthChair = 0.01 * dz\n",
    "    heightLeg = 0.45 * dz\n",
    "\n",
    "    def makeLeg(dx, dy, dz):\n",
    "        def baseChair(dx, dy, dz):\n",
    "            first = PROD([PROD([QUOTE([-distanceLeg, dx - distanceLeg * 2]),QUOTE([-distanceLeg, dy - distanceLeg * 2])]),QUOTE([- dz + depthLeg, depthLeg])])\n",
    "            second = PROD([PROD([QUOTE([-distanceLeg - depthLeg, dx - distanceLeg * 2 - depthLeg * 2]),QUOTE([-distanceLeg - depthLeg, dy - distanceLeg * 2 - depthLeg * 2])]),QUOTE([- dz + depthLeg, depthLeg])])\n",
    "\n",
    "            return DIFF([first, second])\n",
    "\n",
    "        x = QUOTE([-distanceLeg, depthLeg, - (dx - distanceLeg * 2 - depthLeg * 2), depthLeg])\n",
    "        y = QUOTE([-distanceLeg, depthLeg, - (dy - distanceLeg * 2 - depthLeg * 2), depthLeg])\n",
    "        z = QUOTE([dz - depthLeg])\n",
    "\n",
    "        return STRUCT([PROD([PROD([x, y]),z]),baseChair(dx, dy, dz)])\n",
    "\n",
    "    return STRUCT([\n",
    "        COLOR(BLACK)(makeLeg(dx, dy, heightLeg)),T(3)(heightLeg),\n",
    "        COLOR(intRGBColor([139,232,184]))(CUBOID([dx, dy, depthChair])),T(2)(dy - depthChair),\n",
    "        COLOR(intRGBColor([139,232,184]))(CUBOID([dx, depthChair, dz - depthChair - heightLeg]))\n",
    "    ])\n",
    "\n",
    "VIEW(ggpl_chair(0.40,0.40,0.80))"
   ]
  },
  {
   "cell_type": "code",
   "execution_count": 4,
   "metadata": {
    "collapsed": false
   },
   "outputs": [
    {
     "data": {
      "text/plain": [
       "<pyplasm.xgepy.Hpc; proxy of <Swig Object of type 'std::shared_ptr< Hpc > *' at 0x000000000ADA4F60> >"
      ]
     },
     "execution_count": 4,
     "metadata": {},
     "output_type": "execute_result"
    }
   ],
   "source": [
    "\"\"\"Function to create a school desk\"\"\"\n",
    "def ggpl_schoolDesk(dx, dy, dz):\n",
    "    depthLeg = 0.05 * dx\n",
    "    distanceLeg = 0.03 * dx\n",
    "    depthTable = 0.05 * dz\n",
    "\n",
    "    def makeLeg(dx, dy, dz):\n",
    "        def baseTable(dx, dy, dz):\n",
    "            first = PROD([PROD([QUOTE([-distanceLeg, dx - distanceLeg * 2]),QUOTE([-distanceLeg, dy - distanceLeg * 2])]),QUOTE([- dz + depthLeg, depthLeg])])\n",
    "            second = PROD([PROD([QUOTE([-distanceLeg - depthLeg, dx - distanceLeg * 2 - depthLeg * 2]),QUOTE([-distanceLeg - depthLeg, dy - distanceLeg * 2 - depthLeg * 2])]),QUOTE([- dz + depthLeg, depthLeg])])\n",
    "\n",
    "            return DIFF([first, second])\n",
    "\n",
    "        x = QUOTE([-distanceLeg, depthLeg, - (dx - distanceLeg * 2 - depthLeg * 2), depthLeg])\n",
    "        y = QUOTE([-distanceLeg, depthLeg, - (dy - distanceLeg * 2 - depthLeg * 2), depthLeg])\n",
    "        z = QUOTE([dz - depthLeg])\n",
    "\n",
    "        return STRUCT([PROD([PROD([x, y]),z]),baseTable(dx, dy, dz)])\n",
    "\n",
    "    return (STRUCT([\n",
    "    \tCOLOR(BLACK)(makeLeg(dx, dy, dz - depthTable)),T(3)(dz - depthTable),\n",
    "    \tCOLOR(intRGBColor([139,232,184]))(CUBOID([dx, dy, depthTable]))\n",
    "    ]))\n",
    "\n",
    "VIEW(ggpl_schoolDesk(0.60,1,0.80))"
   ]
  },
  {
   "cell_type": "code",
   "execution_count": 5,
   "metadata": {
    "collapsed": false
   },
   "outputs": [
    {
     "data": {
      "text/plain": [
       "<pyplasm.xgepy.Hpc; proxy of <Swig Object of type 'std::shared_ptr< Hpc > *' at 0x000000000AE092A0> >"
      ]
     },
     "execution_count": 5,
     "metadata": {},
     "output_type": "execute_result"
    }
   ],
   "source": [
    "\"\"\"Function to create a blackboard\"\"\"\n",
    "def ggpl_blackboard(dx,dy,dz):\n",
    "    edge = 0.07\n",
    "    panel = COLOR(BLACK)(CUBOID([dx-(2*edge),dy,dz-(2*edge)]))\n",
    "    panel = STRUCT([T([1,3])([edge,edge]),panel])\n",
    "\n",
    "    edgeHPC = CUBOID([dx,dy,dz])\n",
    "    edgeHPC = COLOR(intRGBColor([192,192,192]))(DIFF([edgeHPC, panel]))\n",
    "    \n",
    "    blackboard = STRUCT([T(1)(dx),R([1,2])(PI),panel,edgeHPC,T([1,3])([(5*edge),(5*edge)]),S([1,3])])\n",
    "    \n",
    "    return STRUCT([blackboard])\n",
    "\n",
    "VIEW(ggpl_blackboard(3.50,0.03,1.50))"
   ]
  },
  {
   "cell_type": "code",
   "execution_count": null,
   "metadata": {
    "collapsed": true
   },
   "outputs": [],
   "source": []
  }
 ],
 "metadata": {
  "kernelspec": {
   "display_name": "Python 2",
   "language": "python",
   "name": "python2"
  },
  "language_info": {
   "codemirror_mode": {
    "name": "ipython",
    "version": 2
   },
   "file_extension": ".py",
   "mimetype": "text/x-python",
   "name": "python",
   "nbconvert_exporter": "python",
   "pygments_lexer": "ipython2",
   "version": "2.7.12"
  }
 },
 "nbformat": 4,
 "nbformat_minor": 1
}
