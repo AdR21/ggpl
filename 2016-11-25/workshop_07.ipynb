{
 "cells": [
  {
   "cell_type": "code",
   "execution_count": 1,
   "metadata": {
    "collapsed": false
   },
   "outputs": [
    {
     "name": "stdout",
     "output_type": "stream",
     "text": [
      "Evaluating fenvs.py..\n",
      "...fenvs.py imported in 0.00471505427745 seconds\n"
     ]
    }
   ],
   "source": [
    "#workshop_07\n",
    "\n",
    "\"\"\"Reproduction of windows and doors\"\"\"\n",
    "\n",
    "from pyplasm import *"
   ]
  },
  {
   "cell_type": "code",
   "execution_count": 2,
   "metadata": {
    "collapsed": true
   },
   "outputs": [],
   "source": [
    "\"\"\"Function to create colors from RGB\"\"\"\n",
    "def intRGBColor(values):\n",
    "    return Color4f([values[0]/255.0,values[1]/255.0,values[2]/255.0,1.0])"
   ]
  },
  {
   "cell_type": "code",
   "execution_count": 3,
   "metadata": {
    "collapsed": false
   },
   "outputs": [
    {
     "data": {
      "text/plain": [
       "' xArray = array corresponds to the x\\n    yArray = array corresponds to the y\\n    slot = array of arrays that determines which cells are glass and such wooden'"
      ]
     },
     "execution_count": 3,
     "metadata": {},
     "output_type": "execute_result"
    }
   ],
   "source": [
    "\"\"\" xArray = array corresponds to the x\n",
    "    yArray = array corresponds to the y\n",
    "    slot = array of arrays that determines which cells are glass and such wooden\"\"\""
   ]
  },
  {
   "cell_type": "code",
   "execution_count": 4,
   "metadata": {
    "collapsed": true
   },
   "outputs": [],
   "source": [
    "#window1\n",
    "xArray = [0.0,0.1,0.5,0.6,1.0,1.1]\n",
    "yArray = [0.0,0.1,1.025,1.1,1.275,1.4]\n",
    "slot = [[1,1,1,1,1],[1,0,0,0,1],[1,1,1,1,1],[1,0,0,0,1],[1,1,1,1,1]]\n",
    "\n",
    "#window2\n",
    "#xArray = [0.0,0.1,0.525,0.575,1.0,1.1]\n",
    "#yArray = [0.0,0.1,0.425,0.475,0.825,0.875,1.225,1.3]\n",
    "#slot = [[1,1,1,1,1],[1,0,1,0,1],[1,1,1,1,1],[1,0,1,0,1],[1,1,1,1,1],[1,0,1,0,1],[1,1,1,1,1]]\n"
   ]
  },
  {
   "cell_type": "code",
   "execution_count": 5,
   "metadata": {
    "collapsed": true
   },
   "outputs": [],
   "source": [
    "#door1\n",
    "#xArray = [0.0,0.2,0.4,0.425,0.625,0.825]\n",
    "#yArray = [0.0,0.4,0.65,0.7,0.95,1.0,1.25,1.3,1.55,1.6,1.85,2.05]\n",
    "#slot = [[1,1,1,1,1],[1,0,1,0,1],[1,1,1,1,1],[1,0,1,0,1],[1,1,1,1,1],[1,0,1,0,1],[1,1,1,1,1],[1,0,1,0,1],[1,1,1,1,1],[1,0,1,0,1],[1,1,1,1,1]]\n"
   ]
  },
  {
   "cell_type": "code",
   "execution_count": 6,
   "metadata": {
    "collapsed": true
   },
   "outputs": [],
   "source": [
    "\n",
    "\"\"\" Initial structure\"\"\"\n",
    "init = QUOTE([.0,.0])\n",
    "initStruct = STRUCT([init])"
   ]
  },
  {
   "cell_type": "code",
   "execution_count": 7,
   "metadata": {
    "collapsed": true
   },
   "outputs": [],
   "source": [
    "\"\"\"Function to create a window\"\"\"\n",
    "def ggpl_window(i, j, partStruct):\n",
    "    if j != len(yArray)-1:\n",
    "        if  i != len(xArray)-1:\n",
    "            if slot[j][i]==0:\n",
    "                x = COLOR(intRGBColor([178,255,255]))(CUBOID([xArray[i+1]-xArray[i],yArray[j+1]-yArray[j],0.01]))\n",
    "                struct = STRUCT([T([1,2,3])([xArray[i],yArray[j],0.1/3]), x])\n",
    "            else:\n",
    "                x = COLOR(BROWN)(CUBOID([xArray[i+1]-xArray[i],yArray[j+1]-yArray[j],0.1]))\n",
    "                struct = STRUCT([T([1,2])([xArray[i],yArray[j]]), x])\n",
    "            partStruct = STRUCT([partStruct,struct])\n",
    "            return ggpl_window(i+1, j, partStruct)\n",
    "        else:\n",
    "            return ggpl_window(0, j+1, partStruct)\n",
    "    else:\n",
    "        VIEW(partStruct)"
   ]
  },
  {
   "cell_type": "code",
   "execution_count": 8,
   "metadata": {
    "collapsed": true
   },
   "outputs": [],
   "source": [
    "\"\"\"Function to create a door\"\"\"\n",
    "def ggpl_door(i, j, partStruct):\n",
    "    if j != len(yArray)-1:\n",
    "        if  i != len(xArray)-1:\n",
    "            if slot[j][i]==0:\n",
    "                x = COLOR(intRGBColor([157,161,170]))(CUBOID([xArray[i+1]-xArray[i],yArray[j+1]-yArray[j],0.01]))\n",
    "                struct = STRUCT([T([1,2,3])([xArray[i],yArray[j],0.1/3]), x])\n",
    "            else:\n",
    "                x = COLOR(intRGBColor([166,100,046]))(CUBOID([xArray[i+1]-xArray[i],yArray[j+1]-yArray[j],0.1]))\n",
    "                struct = STRUCT([T([1,2])([xArray[i],yArray[j]]), x])\n",
    "            partStruct = STRUCT([partStruct,struct])\n",
    "            return ggpl_door(i+1, j, partStruct)\n",
    "        else:\n",
    "            return ggpl_door(0, j+1, partStruct)\n",
    "    else:\n",
    "        VIEW(partStruct)"
   ]
  },
  {
   "cell_type": "code",
   "execution_count": 10,
   "metadata": {
    "collapsed": true
   },
   "outputs": [],
   "source": [
    "ggpl_window(0, 0, initStruct)\n",
    "#ggpl_door(0, 0, initStruct)"
   ]
  },
  {
   "cell_type": "code",
   "execution_count": null,
   "metadata": {
    "collapsed": true
   },
   "outputs": [],
   "source": []
  }
 ],
 "metadata": {
  "kernelspec": {
   "display_name": "Python 2",
   "language": "python",
   "name": "python2"
  },
  "language_info": {
   "codemirror_mode": {
    "name": "ipython",
    "version": 2
   },
   "file_extension": ".py",
   "mimetype": "text/x-python",
   "name": "python",
   "nbconvert_exporter": "python",
   "pygments_lexer": "ipython2",
   "version": "2.7.12"
  }
 },
 "nbformat": 4,
 "nbformat_minor": 1
}
