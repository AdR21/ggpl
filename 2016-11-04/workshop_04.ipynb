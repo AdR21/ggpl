{
 "cells": [
  {
   "cell_type": "code",
   "execution_count": 1,
   "metadata": {
    "collapsed": false
   },
   "outputs": [
    {
     "name": "stdout",
     "output_type": "stream",
     "text": [
      "Evaluating fenvs.py..\n",
      "...fenvs.py imported in 0.00421373338912 seconds\n"
     ]
    }
   ],
   "source": [
    "#workshop_04\n",
    "\n",
    "\"\"\"Reproduction of a roof taken like example \"\"\"\n",
    "\n",
    "from pyplasm import *"
   ]
  },
  {
   "cell_type": "code",
   "execution_count": 2,
   "metadata": {
    "collapsed": true
   },
   "outputs": [],
   "source": [
    "dim = 0.2\n",
    "\n",
    "x = [1.0,7.0,11.0,15.0,21.0]\n",
    "y = [2.0,7.0,12.0,17.0]\n",
    "z = [0.0, 5.0]\n"
   ]
  },
  {
   "cell_type": "code",
   "execution_count": 3,
   "metadata": {
    "collapsed": true
   },
   "outputs": [],
   "source": [
    "\"\"\"Verts and Cells on the Cartesian plane\"\"\"\n",
    "verts = [[x[1],y[0],z[0]],[x[2],y[0],z[1]],[x[3],y[0],z[0]],[x[3],y[1],z[0]],[x[4],y[1],z[0]],[x[4],y[2],z[1]],[x[4],y[3],z[0]],[x[0],y[3],z[0]],[x[0],y[2],z[1]],[x[0],y[1],z[0]],[x[1],y[1],z[0]],[x[2],y[2],z[1]],[x[4],y[2],z[0]],[x[0],y[2],z[0]],[x[2],y[2],z[0]],[x[2],y[3],z[0]],[x[2],y[0],z[0]]]\n",
    "cells = [[8,7,9,6],[9,10,11,12],[12,4,5,6],[12,11,1,2],[12,2,3,4],[10,8],[7,5],[14,9],[13,6],[1,3],[12,15],[12,16],[13,14],[2,17]]\n"
   ]
  },
  {
   "cell_type": "code",
   "execution_count": 4,
   "metadata": {
    "collapsed": true
   },
   "outputs": [],
   "source": [
    "\"\"\"Simple structure of the roof model\"\"\"\n",
    "baseRoof = MKPOL([verts, cells,[1]])"
   ]
  },
  {
   "cell_type": "code",
   "execution_count": 5,
   "metadata": {
    "collapsed": true
   },
   "outputs": [],
   "source": [
    "\"\"\"Roof frame'\"\"\"\n",
    "roofFrame = COLOR(BLACK)(OFFSET([dim, dim, dim])(SKEL_1(baseRoof)))"
   ]
  },
  {
   "cell_type": "code",
   "execution_count": 6,
   "metadata": {
    "collapsed": true
   },
   "outputs": [],
   "source": [
    "\"\"\"Cells creation\"\"\"\n",
    "newBaseRoof = STRUCT([T([3])([dim*2])(baseRoof)])\n"
   ]
  },
  {
   "cell_type": "code",
   "execution_count": 7,
   "metadata": {
    "collapsed": true
   },
   "outputs": [],
   "source": [
    "\"\"\"New points to adapt the coverage\"\"\"\n",
    "pts = UKPOL(newBaseRoof)\n",
    "newVerts = pts[0]\n",
    "newCells = pts[1]"
   ]
  },
  {
   "cell_type": "code",
   "execution_count": 8,
   "metadata": {
    "collapsed": true
   },
   "outputs": [],
   "source": [
    "\"\"\"Coverage of the frame\"\"\"\n",
    "newVerts = [[x[0],y[2],z[1]+dim*2],[x[4],y[3]+dim,z[0]+dim],[x[4],y[2],z[1]+dim*2],[x[0],y[3]+dim,z[0]+dim],[x[0],y[1]-dim,z[0]+dim],[x[2],y[2],z[1]+dim*2],[x[1]-dim,y[1]-dim,z[0]+dim],[x[0],y[2],z[1]+dim*2],[x[4],y[1]-dim,z[0]+dim],[x[2],y[2],z[1]+dim*2],[x[3]+dim,y[1]-dim,z[0]+dim],[x[4],y[2],z[1]+dim*2],[x[2],y[0],z[1]+dim*2],[x[1]-dim,y[1]-dim,z[0]+dim],[x[1]-dim,y[0],z[0]+dim],[x[2],y[2],z[1]+dim*2],[x[2],y[2],z[1]+dim*2],[x[3]+dim,y[0],z[0]+dim],[x[3]+dim,y[1]-dim,z[0]+dim],[x[2],y[0],z[1]+dim*2],[x[0],y[3]+dim,z[0]+dim],[x[0],y[1]-dim,z[0]+dim],[x[4],y[3]+dim,z[0]+dim],[x[4],y[1]-dim,z[0]+dim],[x[0],y[2],z[1]+dim*2],[x[0],y[2],z[0]+dim],[x[4],y[2],z[1]+dim*2],[x[4],y[2],z[0]+dim],[x[3]+dim,y[0],z[0]+dim],[x[1]-dim,y[0],z[0]+dim],[x[2],y[2],z[1]+dim*2],[x[2],y[2],z[0]+dim],[x[2],y[3]+dim,z[0]+dim],[x[2],y[2],z[1]+dim*2],[x[4],y[2],z[0]+dim],[x[0],y[2],z[0]+dim],[x[2],y[0],z[1]+dim*2],[x[2],y[0],z[0]+dim]]"
   ]
  },
  {
   "cell_type": "code",
   "execution_count": 9,
   "metadata": {
    "collapsed": true
   },
   "outputs": [],
   "source": [
    "\"\"\"Coverage adapted to the frame\"\"\"\n",
    "covRoof = MKPOL([newVerts, newCells,[1]])\n",
    "covRoof = COLOR(YELLOW)(OFFSET([dim, dim, dim])(SKEL_2(covRoof)))"
   ]
  },
  {
   "cell_type": "code",
   "execution_count": 10,
   "metadata": {
    "collapsed": false
   },
   "outputs": [
    {
     "data": {
      "text/plain": [
       "<pyplasm.xgepy.Hpc; proxy of <Swig Object of type 'std::shared_ptr< Hpc > *' at 0x000000000AFB0AE0> >"
      ]
     },
     "execution_count": 10,
     "metadata": {},
     "output_type": "execute_result"
    }
   ],
   "source": [
    "\"\"\"Complete roof\"\"\"\n",
    "finalRoof = STRUCT([roofFrame, covRoof])\n",
    "\n",
    "VIEW(finalRoof)"
   ]
  },
  {
   "cell_type": "code",
   "execution_count": null,
   "metadata": {
    "collapsed": true
   },
   "outputs": [],
   "source": []
  }
 ],
 "metadata": {
  "kernelspec": {
   "display_name": "Python 2",
   "language": "python",
   "name": "python2"
  },
  "language_info": {
   "codemirror_mode": {
    "name": "ipython",
    "version": 2
   },
   "file_extension": ".py",
   "mimetype": "text/x-python",
   "name": "python",
   "nbconvert_exporter": "python",
   "pygments_lexer": "ipython2",
   "version": "2.7.12"
  }
 },
 "nbformat": 4,
 "nbformat_minor": 1
}
