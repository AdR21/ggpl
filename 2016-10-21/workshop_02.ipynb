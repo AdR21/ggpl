{
 "cells": [
  {
   "cell_type": "code",
   "execution_count": 8,
   "metadata": {
    "collapsed": false
   },
   "outputs": [
    {
     "data": {
      "text/plain": [
       "'Creazione di una struttura composta da telai di pilastri e travi\\n'"
      ]
     },
     "execution_count": 8,
     "metadata": {},
     "output_type": "execute_result"
    }
   ],
   "source": [
    "# workshop_02\n",
    "\n",
    "\"\"\"Creazione di una struttura composta da telai di pilastri e travi\n",
    "\"\"\""
   ]
  },
  {
   "cell_type": "code",
   "execution_count": 9,
   "metadata": {
    "collapsed": true
   },
   "outputs": [],
   "source": [
    "from pyplasm import *\n",
    "\n",
    "import csv\n",
    "\n",
    "import numpy as np"
   ]
  },
  {
   "cell_type": "code",
   "execution_count": 10,
   "metadata": {
    "collapsed": false
   },
   "outputs": [
    {
     "data": {
      "text/plain": [
       "'\\n\\tbeamsLength = [4.5, 4.5]\\n\\tpillarsLength = [0.5, 3.0, 3.0, 3.0]\\n\\tplanDist = [4.5, 4.5, 4.5, 4.5]\\n\\tpillarWidth = 0.5\\n\\tbeamWidth  = pillarWidth/2.0\\n'"
      ]
     },
     "execution_count": 10,
     "metadata": {},
     "output_type": "execute_result"
    }
   ],
   "source": [
    "\"\"\"pillarsLength: lunghezza pilastri \n",
    "\tbeamsLength: lunghezza travi \n",
    "\tpillarWidth: larghezza pilastro\n",
    "\tbeamWidth: larghezza trave\n",
    "\tplanDist: distanza tra  piani\n",
    "\"\"\"\n",
    "\n",
    "\"\"\"\n",
    "\tbeamsLength = [4.5, 4.5]\n",
    "\tpillarsLength = [0.5, 3.0, 3.0, 3.0]\n",
    "\tplanDist = [4.5, 4.5, 4.5, 4.5]\n",
    "\tpillarWidth = 0.5\n",
    "\tbeamWidth  = pillarWidth/2.0\n",
    "\"\"\""
   ]
  },
  {
   "cell_type": "code",
   "execution_count": 11,
   "metadata": {
    "collapsed": false
   },
   "outputs": [
    {
     "name": "stdout",
     "output_type": "stream",
     "text": [
      "[ 4.5  4.5]\n",
      "[ 0.5  3.   3.   3. ]\n",
      "[ 4.5  4.5  4.5  4.5]\n"
     ]
    }
   ],
   "source": [
    "with open('frame_data_441476./frame_data_441476.csv', 'rb') as csvfile:\n",
    "    dialect = csv.Sniffer().sniff(csvfile.read(1024))\n",
    "    csvfile.seek(0)\n",
    "    reader = csv.reader(csvfile, dialect)\n",
    "    for i,row in enumerate(reader):\n",
    "    \tif i == 0:\n",
    "    \t\tbeamsLength = row\n",
    "    \t\tbeamsLength = filter(None, beamsLength)\n",
    "    \t\tbeamsLength = np.array(beamsLength, dtype=float)\n",
    "    \t\tprint beamsLength\n",
    "    \tif i == 1:\n",
    "    \t\tpillarsLength = row\n",
    "    \t\tpillarsLength = filter(None, pillarsLength)\n",
    "    \t\tpillarsLength = np.array(pillarsLength, dtype=float)\n",
    "    \t\tprint pillarsLength\n",
    "    \tif i == 2:\n",
    "    \t\tplanDist = row\n",
    "    \t\tplanDist = filter(None, planDist)\n",
    "    \t\tplanDist = np.array(planDist, dtype=float)\n",
    "    \t\tprint planDist\n",
    "    \tif i == 3:\n",
    "    \t\tpillarWidth = row[0]\n",
    "    \t\tpillarWidth = float(pillarWidth)\n",
    "    \tif i == 4:\n",
    "    \t\tbeamWidth = row[0]\n",
    "    \t\tbeamWidth = float(beamWidth)\n"
   ]
  },
  {
   "cell_type": "code",
   "execution_count": 12,
   "metadata": {
    "collapsed": true
   },
   "outputs": [],
   "source": [
    "\"\"\"Struttura vuota dove verra' costruito il telaio\n",
    "\"\"\"\n",
    "\n",
    "pillars = CUBOID([0,0,0])\n",
    "arch = STRUCT([pillars])"
   ]
  },
  {
   "cell_type": "code",
   "execution_count": 13,
   "metadata": {
    "collapsed": true
   },
   "outputs": [],
   "source": [
    "\"\"\"Creazione struttura\n",
    "\"\"\"\n",
    "\n",
    "def ggpl_bone_structure(pillarsLengthAll, beamsLengthAll, planDistTot, x, z, y, archTotal):\n",
    "\tif  z < len(pillarsLength): \n",
    "\t\tpillars1 = COLOR(BLUE)(CUBOID([pillarWidth,pillarWidth,pillarsLength[z]]))\n",
    "\t\tpillars1All = STRUCT([T(1)(planDistTot),T(2)(beamsLengthAll),T(3)(pillarsLengthAll), pillars1])\n",
    "\t\tbeams1 = COLOR(GREEN)(CUBOID([beamWidth,beamsLength[y],beamWidth]))\n",
    "\t\tbeams1All = STRUCT([T([1,2,3])([beamWidth/2.0+planDistTot, (3.0*pillarWidth/4.0)+beamsLengthAll, pillarsLengthAll+pillarsLength[z]]), beams1])\n",
    "\t\t\n",
    "\t\tif  x < len(planDist): \n",
    "\t\t\tarchTotal = STRUCT([archTotal,pillars1All,beams1All])\n",
    "\t\t\tt2 = COLOR(GREEN)(CUBOID([planDist[x],beamWidth,beamWidth]))\n",
    "\t\t\tt2_t = STRUCT([T([1,2,3])([beamWidth/2.0+planDistTot, (pillarWidth/4.0)+beamsLengthAll, pillarsLengthAll+pillarsLength[z]]), t2])\n",
    "\t\t\tbeamsLengthAll=beamsLengthAll+beamsLength[y]+(pillarWidth/2.0)\n",
    "\t\t\t\n",
    "\t\t\tif y < len(beamsLength) - 1: \n",
    "\t\t\t\ty=y+1\n",
    "\t\t\t\tarchTotal = STRUCT([archTotal,t2_t])\n",
    "\t\t\t\treturn ggpl_bone_structure(pillarsLengthAll, beamsLengthAll, planDistTot, x, z, y, archTotal)\n",
    "\t\t\t\n",
    "\t\t\telse:\n",
    "\t\t\t\tpillars1_next_t = STRUCT([T(1)(planDistTot),T(2)(beamsLengthAll),T(3)(pillarsLengthAll), pillars1])\n",
    "\t\t\t\tt2_next_t = STRUCT([T([1,2,3])([beamWidth/2.0+planDistTot, (pillarWidth/4.0)+beamsLengthAll,pillarsLengthAll+pillarsLength[z]]), t2])\n",
    "\t\t\t\tarchTotal = STRUCT([archTotal,t2_t,pillars1_next_t,t2_next_t])\n",
    "\t\t\t\tplanDistTot = planDistTot + planDist[x]\n",
    "\t\t\t\tx=x+1\n",
    "\t\t\t\treturn ggpl_bone_structure(pillarsLengthAll, 0, planDistTot, x, z, 0, archTotal)\n",
    "\t\t\n",
    "\t\telse:\n",
    "\t\t\tpillarsLengthAll = pillarsLengthAll + pillarsLength[z] + beamWidth\n",
    "\t\t\tz=z+1\n",
    "\t\t\treturn ggpl_bone_structure(pillarsLengthAll, 0, 0, 0, z, 0, archTotal)\n",
    "\t\n",
    "\telse:\n",
    "\t\tdist = 0\n",
    "\t\tfor p in planDist:\n",
    "\t\t\tdist = dist + p\n",
    "\t\treturn ggpl_bone_structure_1(dist, 0, 0, 0, 0, archTotal)"
   ]
  },
  {
   "cell_type": "code",
   "execution_count": 14,
   "metadata": {
    "collapsed": true
   },
   "outputs": [],
   "source": [
    "\"\"\"Telaio finale\n",
    "\"\"\"\n",
    "\n",
    "def ggpl_bone_structure_1(dist, pillarsLengthAll, beamsLengthAll, j, y, archTotal):\n",
    "\tpillars1 = COLOR(BLUE)(CUBOID([pillarWidth,pillarWidth,pillarsLength[y]]))\n",
    "\tpillars1All = STRUCT([T(1)(dist),T(2)(beamsLengthAll),T(3)(pillarsLengthAll), pillars1])\n",
    "\tbeams1 = COLOR(GREEN)(CUBOID([beamWidth,beamsLength[j],beamWidth]))\n",
    "\tbeams1All = STRUCT([T([1,2,3])([beamWidth/2.0+dist, (3.0*pillarWidth/4.0)+beamsLengthAll,pillarsLengthAll+pillarsLength[y]]), beams1])\n",
    "\tbeamsLengthAll=beamsLengthAll+beamsLength[j]+(pillarWidth/2.0)\n",
    "\tif j == len(beamsLength) - 1:\n",
    "\t\tpillars1_next_t = STRUCT([T(1)(dist),T(2)(beamsLengthAll),T(3)(pillarsLengthAll), pillars1])\n",
    "\t\tpillarsLengthAll = pillarsLengthAll + pillarsLength[y] + beamWidth\n",
    "\t\tarchTotal = STRUCT([archTotal,pillars1All,beams1All,pillars1_next_t])\n",
    "\t\tif y != len(pillarsLength) - 1:\n",
    "\t\t\ty=y+1\n",
    "\t\t\treturn ggpl_bone_structure_1(dist, pillarsLengthAll, 0, 0, y, archTotal)\n",
    "\t\telse:\n",
    "\t\t\tVIEW(archTotal)\n",
    "\telse:\n",
    "\t\tj=j+1\n",
    "\t\tarchTotal = STRUCT([archTotal,pillars1All,beams1All])\n",
    "\t\treturn ggpl_bone_structure_1(dist, pillarsLengthAll, beamsLengthAll, j, y, archTotal)\n",
    "\n",
    "ggpl_bone_structure(0, 0, 0, 0, 0, 0, arch)"
   ]
  },
  {
   "cell_type": "code",
   "execution_count": null,
   "metadata": {
    "collapsed": true
   },
   "outputs": [],
   "source": []
  }
 ],
 "metadata": {
  "kernelspec": {
   "display_name": "Python 2",
   "language": "python",
   "name": "python2"
  },
  "language_info": {
   "codemirror_mode": {
    "name": "ipython",
    "version": 2
   },
   "file_extension": ".py",
   "mimetype": "text/x-python",
   "name": "python",
   "nbconvert_exporter": "python",
   "pygments_lexer": "ipython2",
   "version": "2.7.12"
  }
 },
 "nbformat": 4,
 "nbformat_minor": 1
}
