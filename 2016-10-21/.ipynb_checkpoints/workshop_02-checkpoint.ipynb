{
 "cells": [
  {
   "cell_type": "code",
   "execution_count": 2,
   "metadata": {
    "collapsed": true
   },
   "outputs": [],
   "source": [
    "# workshop_02"
   ]
  },
  {
   "cell_type": "code",
   "execution_count": 4,
   "metadata": {
    "collapsed": false
   },
   "outputs": [
    {
     "data": {
      "text/plain": [
       "'Creazione di una struttura composta da telai di pilastri e travi\\n'"
      ]
     },
     "execution_count": 4,
     "metadata": {},
     "output_type": "execute_result"
    }
   ],
   "source": [
    "\"\"\"Creazione di una struttura composta da telai di pilastri e travi\n",
    "\"\"\""
   ]
  },
  {
   "cell_type": "code",
   "execution_count": 5,
   "metadata": {
    "collapsed": false
   },
   "outputs": [
    {
     "data": {
      "text/plain": [
       "'pillarsLength: lunghezza pilastri \\n\\tbeamsLength: lunghezza travi \\n\\tpillarWidth: larghezza pilastro\\n\\tbeamWidth: larghezza trave\\n\\tplanDist: distanza tra  piani\\n'"
      ]
     },
     "execution_count": 5,
     "metadata": {},
     "output_type": "execute_result"
    }
   ],
   "source": [
    "from larlib import *\n",
    "\n",
    "import csv\n",
    "\n",
    "\"\"\"pillarsLength: lunghezza pilastri \n",
    "\tbeamsLength: lunghezza travi \n",
    "\tpillarWidth: larghezza pilastro\n",
    "\tbeamWidth: larghezza trave\n",
    "\tplanDist: distanza tra  piani\n",
    "\"\"\""
   ]
  },
  {
   "cell_type": "code",
   "execution_count": 6,
   "metadata": {
    "collapsed": true
   },
   "outputs": [],
   "source": [
    "pillarsLength = [0.5, 3.0, 3.0, 3.05]\n",
    "beamsLength = [4.5, 4.5]\n",
    "pillarWidth = 0.5\n",
    "beamWidth  = pillarWidth/2.0\n",
    "planDist = [4.5, 4.5, 4.5, 4.5]"
   ]
  },
  {
   "cell_type": "code",
   "execution_count": 8,
   "metadata": {
    "collapsed": false
   },
   "outputs": [],
   "source": [
    "with open('frame_data_441476./frame_data_441476.csv', 'rb') as csvfile:\n",
    "    dialect = csv.Sniffer().sniff(csvfile.read(1024))\n",
    "    csvfile.seek(0)\n",
    "    reader = csv.reader(csvfile, dialect)"
   ]
  },
  {
   "cell_type": "code",
   "execution_count": 9,
   "metadata": {
    "collapsed": true
   },
   "outputs": [],
   "source": [
    "\"\"\"Struttura vuota dove verra' costruito il telaio\n",
    "\"\"\"\n",
    "\n",
    "pillars = CUBOID([0,0,0])\n",
    "arch = STRUCT([pillars])"
   ]
  },
  {
   "cell_type": "code",
   "execution_count": 11,
   "metadata": {
    "collapsed": true
   },
   "outputs": [],
   "source": [
    "\"\"\"Creazione struttura\n",
    "\"\"\"\n",
    "\n",
    "def ggpl_bone_structure(pillarsLengthAll, beamsLengthAll, planDistTot, x, z, y, archTotal):\n",
    "\tif  z < len(pillarsLength): \n",
    "\t\tpillars1 = COLOR(BLUE)(CUBOID([pillarWidth,pillarWidth,pillarsLength[z]]))\n",
    "\t\tpillars1All = STRUCT([T(1)(planDistTot),T(2)(beamsLengthAll),T(3)(pillarsLengthAll), pillars1])\n",
    "\t\tbeams1 = COLOR(GREEN)(CUBOID([beamWidth,beamsLength[y],beamWidth]))\n",
    "\t\tbeams1All = STRUCT([T([1,2,3])([beamWidth/2.0+planDistTot, (3.0*pillarWidth/4.0)+beamsLengthAll, pillarsLengthAll+pillarsLength[z]]), beams1])\n",
    "        \n",
    "\t\tif  x < len(planDist): \n",
    "\t\t\tarchTotal = STRUCT([archTotal,pillars1All,beams1All])\n",
    "\t\t\tt2 = COLOR(GREEN)(CUBOID([planDist[x],beamWidth,beamWidth]))\n",
    "\t\t\tt2_t = STRUCT([T([1,2,3])([beamWidth/2.0+planDistTot, (pillarWidth/4.0)+beamsLengthAll, pillarsLengthAll+pillarsLength[z]]), t2])\n",
    "\t\t\tbeamsLengthAll=beamsLengthAll+beamsLength[y]+(pillarWidth/2.0)\n",
    "\t\t\t\n",
    "\t\t\tif y < len(beamsLength) - 1: \n",
    "\t\t\t\ty=y+1\n",
    "\t\t\t\tarchTotal = STRUCT([archTotal,t2_t])\n",
    "\t\t\t\treturn ggpl_bone_structure(pillarsLengthAll, beamsLengthAll, planDistTot, x, z, y, archTotal)\n",
    "\t\t\t\n",
    "\t\t\telse:\n",
    "\t\t\t\tpillars1_next_t = STRUCT([T(1)(planDistTot),T(2)(beamsLengthAll),T(3)(pillarsLengthAll), pillars1])\n",
    "\t\t\t\tt2_next_t = STRUCT([T([1,2,3])([beamWidth/2.0+planDistTot, (pillarWidth/4.0)+beamsLengthAll,pillarsLengthAll+pillarsLength[z]]), t2])\n",
    "\t\t\t\tarchTotal = STRUCT([archTotal,t2_t,pillars1_next_t,t2_next_t])\n",
    "\t\t\t\tplanDistTot = planDistTot + planDist[x]\n",
    "\t\t\t\tx=x+1\n",
    "\t\t\t\treturn ggpl_bone_structure(pillarsLengthAll, 0, planDistTot, x, z, 0, archTotal)\n",
    "\t\t\n",
    "\t\telse:\n",
    "\t\t\tpillarsLengthAll = pillarsLengthAll + pillarsLength[z] + beamWidth\n",
    "\t\t\tz=z+1\n",
    "\t\t\treturn ggpl_bone_structure(pillarsLengthAll, 0, 0, 0, z, 0, archTotal)\n",
    "\t\n",
    "\telse:\n",
    "\t\tdist = 0\n",
    "\t\tfor p in planDist:\n",
    "\t\t\tdist = dist + p\n",
    "\t\treturn ggpl_bone_structure_1(dist, 0, 0, 0, 0, archTotal)"
   ]
  },
  {
   "cell_type": "code",
   "execution_count": 13,
   "metadata": {
    "collapsed": true
   },
   "outputs": [],
   "source": [
    "\"\"\"Telaio finale\n",
    "\"\"\"\n",
    "\n",
    "def ggpl_bone_structure_1(dist, pillarsLengthAll, beamsLengthAll, j, y, archTotal):\n",
    "\tpillars1 = COLOR(BLUE)(CUBOID([pillarWidth,pillarWidth,pillarsLength[y]]))\n",
    "\tpillars1All = STRUCT([T(1)(dist),T(2)(beamsLengthAll),T(3)(pillarsLengthAll), pillars1])\n",
    "\tbeams1 = COLOR(GREEN)(CUBOID([beamWidth,beamsLength[j],beamWidth]))\n",
    "\tbeams1All = STRUCT([T([1,2,3])([beamWidth/2.0+dist, (3.0*pillarWidth/4.0)+beamsLengthAll,pillarsLengthAll+pillarsLength[y]]), beams1])\n",
    "\tbeamsLengthAll=beamsLengthAll+beamsLength[j]+(pillarWidth/2.0)\n",
    "\tif j == len(beamsLength) - 1:\n",
    "\t\tpillars1_next_t = STRUCT([T(1)(dist),T(2)(beamsLengthAll),T(3)(pillarsLengthAll), pillars1])\n",
    "\t\tpillarsLengthAll = pillarsLengthAll + pillarsLength[y] + beamWidth\n",
    "\t\tarchTotal = STRUCT([archTotal,pillars1All,beams1All,pillars1_next_t])\n",
    "\t\tif y != len(pillarsLength) - 1:\n",
    "\t\t\ty=y+1\n",
    "\t\t\treturn ggpl_bone_structure_1(dist, pillarsLengthAll, 0, 0, y, archTotal)\n",
    "\t\telse:\n",
    "\t\t\tVIEW(archTotal)\n",
    "\telse:\n",
    "\t\tj=j+1\n",
    "\t\tarchTotal = STRUCT([archTotal,pillars1All,beams1All])\n",
    "\t\treturn ggpl_bone_structure_1(dist, pillarsLengthAll, beamsLengthAll, j, y, archTotal)\n",
    "\n",
    "ggpl_bone_structure(0, 0, 0, 0, 0, 0, arch)"
   ]
  },
  {
   "cell_type": "code",
   "execution_count": null,
   "metadata": {
    "collapsed": true
   },
   "outputs": [],
   "source": []
  }
 ],
 "metadata": {
  "kernelspec": {
   "display_name": "Python 2",
   "language": "python",
   "name": "python2"
  },
  "language_info": {
   "codemirror_mode": {
    "name": "ipython",
    "version": 2
   },
   "file_extension": ".py",
   "mimetype": "text/x-python",
   "name": "python",
   "nbconvert_exporter": "python",
   "pygments_lexer": "ipython2",
   "version": "2.7.12"
  }
 },
 "nbformat": 4,
 "nbformat_minor": 1
}
